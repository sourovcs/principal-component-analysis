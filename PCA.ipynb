{
  "nbformat": 4,
  "nbformat_minor": 0,
  "metadata": {
    "colab": {
      "provenance": [],
      "collapsed_sections": [],
      "include_colab_link": true
    },
    "kernelspec": {
      "display_name": "Python 3",
      "name": "python3"
    },
    "language_info": {
      "name": "python"
    }
  },
  "cells": [
    {
      "cell_type": "markdown",
      "metadata": {
        "id": "view-in-github",
        "colab_type": "text"
      },
      "source": [
        "<a href=\"https://colab.research.google.com/github/sourovcs/principal-component-analysis/blob/main/PCA.ipynb\" target=\"_parent\"><img src=\"https://colab.research.google.com/assets/colab-badge.svg\" alt=\"Open In Colab\"/></a>"
      ]
    },
    {
      "cell_type": "code",
      "metadata": {
        "id": "UqJS_g-thXuG"
      },
      "source": [
        "from numpy import array\n",
        "from numpy import mean\n",
        "from numpy import cov\n",
        "from numpy.linalg import eig"
      ],
      "execution_count": null,
      "outputs": []
    },
    {
      "cell_type": "code",
      "metadata": {
        "colab": {
          "base_uri": "https://localhost:8080/"
        },
        "id": "8nQf6JsriWfS",
        "outputId": "2a934c9b-6317-4381-ce8b-ebc583994481"
      },
      "source": [
        "# dataset\n",
        "D = array([[1, 0], [8, 0], [1, 4]])\n",
        "print(D)"
      ],
      "execution_count": null,
      "outputs": [
        {
          "output_type": "stream",
          "name": "stdout",
          "text": [
            "[[1 0]\n",
            " [8 0]\n",
            " [1 4]]\n"
          ]
        }
      ]
    },
    {
      "cell_type": "code",
      "metadata": {
        "id": "cUbH8g5hiw3G",
        "colab": {
          "base_uri": "https://localhost:8080/"
        },
        "outputId": "996b5415-cbbd-4a72-95fb-65a490967d44"
      },
      "source": [
        "print(D.T)"
      ],
      "execution_count": null,
      "outputs": [
        {
          "output_type": "stream",
          "name": "stdout",
          "text": [
            "[[1 8 1]\n",
            " [0 0 4]]\n"
          ]
        }
      ]
    },
    {
      "cell_type": "code",
      "metadata": {
        "colab": {
          "base_uri": "https://localhost:8080/"
        },
        "id": "PvBuzyG9jPg2",
        "outputId": "7a5d63ab-aba1-4601-f652-1fd9f7fe1aaf"
      },
      "source": [
        "# calculating mean\n",
        "M = mean(D.T, axis = 1)\n",
        "print(M)"
      ],
      "execution_count": null,
      "outputs": [
        {
          "output_type": "stream",
          "name": "stdout",
          "text": [
            "[3.33333333 1.33333333]\n"
          ]
        }
      ]
    },
    {
      "cell_type": "code",
      "metadata": {
        "colab": {
          "base_uri": "https://localhost:8080/"
        },
        "id": "qV_sGByZj4oZ",
        "outputId": "f8f14225-ac38-4064-d588-6b26f219315f"
      },
      "source": [
        "A = D - M\n",
        "print(A)"
      ],
      "execution_count": null,
      "outputs": [
        {
          "output_type": "stream",
          "name": "stdout",
          "text": [
            "[[-2.33333333 -1.33333333]\n",
            " [ 4.66666667 -1.33333333]\n",
            " [-2.33333333  2.66666667]]\n"
          ]
        }
      ]
    },
    {
      "cell_type": "code",
      "metadata": {
        "colab": {
          "base_uri": "https://localhost:8080/"
        },
        "id": "5Sb4jrIgkH0F",
        "outputId": "efab83f3-88d5-47e1-ef71-9ca8c7087866"
      },
      "source": [
        "# claculating covariance matrix\n",
        "C = cov(A.T)\n",
        "print(C)"
      ],
      "execution_count": null,
      "outputs": [
        {
          "output_type": "stream",
          "name": "stdout",
          "text": [
            "[[16.33333333 -4.66666667]\n",
            " [-4.66666667  5.33333333]]\n"
          ]
        }
      ]
    },
    {
      "cell_type": "code",
      "metadata": {
        "id": "qO-ZdYPfkfjO"
      },
      "source": [
        "eig_values, eig_vectors = eig(C)"
      ],
      "execution_count": null,
      "outputs": []
    },
    {
      "cell_type": "code",
      "metadata": {
        "colab": {
          "base_uri": "https://localhost:8080/"
        },
        "id": "_0ufI2Ahkvy4",
        "outputId": "ba8acfea-72f4-47a9-d913-562a45756d69"
      },
      "source": [
        "# print eigen values\n",
        "print(eig_values)"
      ],
      "execution_count": null,
      "outputs": [
        {
          "output_type": "stream",
          "name": "stdout",
          "text": [
            "[18.04636167  3.620305  ]\n"
          ]
        }
      ]
    },
    {
      "cell_type": "code",
      "metadata": {
        "colab": {
          "base_uri": "https://localhost:8080/"
        },
        "id": "1CXp0qXPlRcl",
        "outputId": "a483ac16-c39b-4af2-fb53-bf40c8c86a7f"
      },
      "source": [
        "# print eigen vectors\n",
        "print(eig_vectors)"
      ],
      "execution_count": null,
      "outputs": [
        {
          "output_type": "stream",
          "name": "stdout",
          "text": [
            "[[ 0.9387516   0.34459459]\n",
            " [-0.34459459  0.9387516 ]]\n"
          ]
        }
      ]
    },
    {
      "cell_type": "code",
      "metadata": {
        "id": "IJp3UbEZlolf"
      },
      "source": [
        "pca = eig_vectors.T.dot(A.T)"
      ],
      "execution_count": null,
      "outputs": []
    },
    {
      "cell_type": "code",
      "metadata": {
        "colab": {
          "base_uri": "https://localhost:8080/"
        },
        "id": "lisUmb2WmILQ",
        "outputId": "f1e64cc4-e54e-49b8-9081-42151ce1429b"
      },
      "source": [
        "# print principle component\n",
        "print(pca)"
      ],
      "execution_count": null,
      "outputs": [
        {
          "output_type": "stream",
          "name": "stdout",
          "text": [
            "[[-1.73096095  4.84030026 -3.10933931]\n",
            " [-2.05572285  0.35643929  1.69928356]]\n"
          ]
        }
      ]
    }
  ]
}